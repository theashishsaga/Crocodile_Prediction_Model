{
 "cells": [
  {
   "cell_type": "code",
   "execution_count": 70,
   "id": "fa7a4f5d-33bf-4d5f-a9a8-c272caf03fe9",
   "metadata": {},
   "outputs": [
    {
     "name": "stdout",
     "output_type": "stream",
     "text": [
      "Requirement already satisfied: kaggle in c:\\users\\91620\\appdata\\local\\programs\\python\\python313\\lib\\site-packages (1.7.4.5)\n",
      "Requirement already satisfied: bleach in c:\\users\\91620\\appdata\\local\\programs\\python\\python313\\lib\\site-packages (from kaggle) (6.2.0)\n",
      "Requirement already satisfied: certifi>=14.05.14 in c:\\users\\91620\\appdata\\local\\programs\\python\\python313\\lib\\site-packages (from kaggle) (2025.1.31)\n",
      "Requirement already satisfied: charset-normalizer in c:\\users\\91620\\appdata\\local\\programs\\python\\python313\\lib\\site-packages (from kaggle) (3.4.1)\n",
      "Requirement already satisfied: idna in c:\\users\\91620\\appdata\\local\\programs\\python\\python313\\lib\\site-packages (from kaggle) (3.10)\n",
      "Requirement already satisfied: protobuf in c:\\users\\91620\\appdata\\local\\programs\\python\\python313\\lib\\site-packages (from kaggle) (6.32.1)\n",
      "Requirement already satisfied: python-dateutil>=2.5.3 in c:\\users\\91620\\appdata\\local\\programs\\python\\python313\\lib\\site-packages (from kaggle) (2.9.0.post0)\n",
      "Requirement already satisfied: python-slugify in c:\\users\\91620\\appdata\\local\\programs\\python\\python313\\lib\\site-packages (from kaggle) (8.0.4)\n",
      "Requirement already satisfied: requests in c:\\users\\91620\\appdata\\local\\programs\\python\\python313\\lib\\site-packages (from kaggle) (2.32.3)\n",
      "Requirement already satisfied: setuptools>=21.0.0 in c:\\users\\91620\\appdata\\local\\programs\\python\\python313\\lib\\site-packages (from kaggle) (78.1.0)\n",
      "Requirement already satisfied: six>=1.10 in c:\\users\\91620\\appdata\\local\\programs\\python\\python313\\lib\\site-packages (from kaggle) (1.16.0)\n",
      "Requirement already satisfied: text-unidecode in c:\\users\\91620\\appdata\\local\\programs\\python\\python313\\lib\\site-packages (from kaggle) (1.3)\n",
      "Requirement already satisfied: tqdm in c:\\users\\91620\\appdata\\local\\programs\\python\\python313\\lib\\site-packages (from kaggle) (4.67.1)\n",
      "Requirement already satisfied: urllib3>=1.15.1 in c:\\users\\91620\\appdata\\local\\programs\\python\\python313\\lib\\site-packages (from kaggle) (2.3.0)\n",
      "Requirement already satisfied: webencodings in c:\\users\\91620\\appdata\\local\\programs\\python\\python313\\lib\\site-packages (from kaggle) (0.5.1)\n",
      "Requirement already satisfied: colorama in c:\\users\\91620\\appdata\\local\\programs\\python\\python313\\lib\\site-packages (from tqdm->kaggle) (0.4.6)\n"
     ]
    },
    {
     "name": "stderr",
     "output_type": "stream",
     "text": [
      "\n",
      "[notice] A new release of pip is available: 24.2 -> 25.2\n",
      "[notice] To update, run: python.exe -m pip install --upgrade pip\n"
     ]
    }
   ],
   "source": [
    "!pip install kaggle\n"
   ]
  },
  {
   "cell_type": "code",
   "execution_count": 71,
   "id": "7f4c14bc-f977-420c-853e-a2815a50d25d",
   "metadata": {},
   "outputs": [
    {
     "name": "stdout",
     "output_type": "stream",
     "text": [
      "Kaggle API 1.7.4.5\n"
     ]
    }
   ],
   "source": [
    "!kaggle --version\n"
   ]
  },
  {
   "cell_type": "code",
   "execution_count": 72,
   "id": "65b50d9a-bd93-45d6-b20f-236cf95c5544",
   "metadata": {},
   "outputs": [
    {
     "name": "stdout",
     "output_type": "stream",
     "text": [
      "Dataset URL: https://www.kaggle.com/datasets/zadafiyabhrami/global-crocodile-species-dataset\n",
      "License(s): apache-2.0\n",
      "global-crocodile-species-dataset.zip: Skipping, found more recently modified local copy (use --force to force download)\n"
     ]
    }
   ],
   "source": [
    "!kaggle datasets download -d zadafiyabhrami/global-crocodile-species-dataset -p ./data\n"
   ]
  },
  {
   "cell_type": "code",
   "execution_count": 73,
   "id": "e0e8c83d-ae11-435a-978d-4763f5ebac5f",
   "metadata": {},
   "outputs": [],
   "source": [
    "import zipfile\n",
    "\n",
    "with zipfile.ZipFile(\"./data/global-crocodile-species-dataset.zip\", \"r\") as zip_ref:\n",
    "    zip_ref.extractall(\"./data\")\n"
   ]
  },
  {
   "cell_type": "code",
   "execution_count": 74,
   "id": "87205ed0-8be3-4c35-841a-511ebab8089e",
   "metadata": {},
   "outputs": [
    {
     "name": "stdout",
     "output_type": "stream",
     "text": [
      "['crocodile_dataset.csv', 'global-crocodile-species-dataset.zip']\n"
     ]
    }
   ],
   "source": [
    "import os\n",
    "print(os.listdir(\"./data\"))\n"
   ]
  },
  {
   "cell_type": "code",
   "execution_count": 75,
   "id": "e66f12e4-4cdf-4e29-b525-ed85dd76c72e",
   "metadata": {},
   "outputs": [
    {
     "name": "stdout",
     "output_type": "stream",
     "text": [
      "['crocodile_dataset.csv']\n"
     ]
    }
   ],
   "source": [
    "import zipfile\n",
    "\n",
    "zip_file = \"./data/global-crocodile-species-dataset.zip\"\n",
    "\n",
    "with zipfile.ZipFile(zip_file, \"r\") as z:\n",
    "    print(z.namelist())  \n",
    "\n"
   ]
  },
  {
   "cell_type": "code",
   "execution_count": 76,
   "id": "f3980d31-bec8-4bd4-9796-00b670fcbf65",
   "metadata": {},
   "outputs": [
    {
     "data": {
      "text/html": [
       "<div>\n",
       "<style scoped>\n",
       "    .dataframe tbody tr th:only-of-type {\n",
       "        vertical-align: middle;\n",
       "    }\n",
       "\n",
       "    .dataframe tbody tr th {\n",
       "        vertical-align: top;\n",
       "    }\n",
       "\n",
       "    .dataframe thead th {\n",
       "        text-align: right;\n",
       "    }\n",
       "</style>\n",
       "<table border=\"1\" class=\"dataframe\">\n",
       "  <thead>\n",
       "    <tr style=\"text-align: right;\">\n",
       "      <th></th>\n",
       "      <th>Observation ID</th>\n",
       "      <th>Common Name</th>\n",
       "      <th>Scientific Name</th>\n",
       "      <th>Family</th>\n",
       "      <th>Genus</th>\n",
       "      <th>Observed Length (m)</th>\n",
       "      <th>Observed Weight (kg)</th>\n",
       "      <th>Age Class</th>\n",
       "      <th>Sex</th>\n",
       "      <th>Date of Observation</th>\n",
       "      <th>Country/Region</th>\n",
       "      <th>Habitat Type</th>\n",
       "      <th>Conservation Status</th>\n",
       "      <th>Observer Name</th>\n",
       "      <th>Notes</th>\n",
       "    </tr>\n",
       "  </thead>\n",
       "  <tbody>\n",
       "    <tr>\n",
       "      <th>0</th>\n",
       "      <td>1</td>\n",
       "      <td>Morelet's Crocodile</td>\n",
       "      <td>Crocodylus moreletii</td>\n",
       "      <td>Crocodylidae</td>\n",
       "      <td>Crocodylus</td>\n",
       "      <td>1.90</td>\n",
       "      <td>62.0</td>\n",
       "      <td>Adult</td>\n",
       "      <td>Male</td>\n",
       "      <td>31-03-2018</td>\n",
       "      <td>Belize</td>\n",
       "      <td>Swamps</td>\n",
       "      <td>Least Concern</td>\n",
       "      <td>Allison Hill</td>\n",
       "      <td>Cause bill scientist nation opportunity.</td>\n",
       "    </tr>\n",
       "    <tr>\n",
       "      <th>1</th>\n",
       "      <td>2</td>\n",
       "      <td>American Crocodile</td>\n",
       "      <td>Crocodylus acutus</td>\n",
       "      <td>Crocodylidae</td>\n",
       "      <td>Crocodylus</td>\n",
       "      <td>4.09</td>\n",
       "      <td>334.5</td>\n",
       "      <td>Adult</td>\n",
       "      <td>Male</td>\n",
       "      <td>28-01-2015</td>\n",
       "      <td>Venezuela</td>\n",
       "      <td>Mangroves</td>\n",
       "      <td>Vulnerable</td>\n",
       "      <td>Brandon Hall</td>\n",
       "      <td>Ago current practice nation determine operatio...</td>\n",
       "    </tr>\n",
       "    <tr>\n",
       "      <th>2</th>\n",
       "      <td>3</td>\n",
       "      <td>Orinoco Crocodile</td>\n",
       "      <td>Crocodylus intermedius</td>\n",
       "      <td>Crocodylidae</td>\n",
       "      <td>Crocodylus</td>\n",
       "      <td>1.08</td>\n",
       "      <td>118.2</td>\n",
       "      <td>Juvenile</td>\n",
       "      <td>Unknown</td>\n",
       "      <td>07-12-2010</td>\n",
       "      <td>Venezuela</td>\n",
       "      <td>Flooded Savannas</td>\n",
       "      <td>Critically Endangered</td>\n",
       "      <td>Melissa Peterson</td>\n",
       "      <td>Democratic shake bill here grow gas enough ana...</td>\n",
       "    </tr>\n",
       "    <tr>\n",
       "      <th>3</th>\n",
       "      <td>4</td>\n",
       "      <td>Morelet's Crocodile</td>\n",
       "      <td>Crocodylus moreletii</td>\n",
       "      <td>Crocodylidae</td>\n",
       "      <td>Crocodylus</td>\n",
       "      <td>2.42</td>\n",
       "      <td>90.4</td>\n",
       "      <td>Adult</td>\n",
       "      <td>Male</td>\n",
       "      <td>01-11-2019</td>\n",
       "      <td>Mexico</td>\n",
       "      <td>Rivers</td>\n",
       "      <td>Least Concern</td>\n",
       "      <td>Edward Fuller</td>\n",
       "      <td>Officer relate animal direction eye bag do.</td>\n",
       "    </tr>\n",
       "    <tr>\n",
       "      <th>4</th>\n",
       "      <td>5</td>\n",
       "      <td>Mugger Crocodile (Marsh Crocodile)</td>\n",
       "      <td>Crocodylus palustris</td>\n",
       "      <td>Crocodylidae</td>\n",
       "      <td>Crocodylus</td>\n",
       "      <td>3.75</td>\n",
       "      <td>269.4</td>\n",
       "      <td>Adult</td>\n",
       "      <td>Unknown</td>\n",
       "      <td>15-07-2019</td>\n",
       "      <td>India</td>\n",
       "      <td>Rivers</td>\n",
       "      <td>Vulnerable</td>\n",
       "      <td>Donald Reid</td>\n",
       "      <td>Class great prove reduce raise author play mov...</td>\n",
       "    </tr>\n",
       "  </tbody>\n",
       "</table>\n",
       "</div>"
      ],
      "text/plain": [
       "   Observation ID                         Common Name         Scientific Name  \\\n",
       "0               1                 Morelet's Crocodile    Crocodylus moreletii   \n",
       "1               2                  American Crocodile       Crocodylus acutus   \n",
       "2               3                   Orinoco Crocodile  Crocodylus intermedius   \n",
       "3               4                 Morelet's Crocodile    Crocodylus moreletii   \n",
       "4               5  Mugger Crocodile (Marsh Crocodile)    Crocodylus palustris   \n",
       "\n",
       "         Family       Genus  Observed Length (m)  Observed Weight (kg)  \\\n",
       "0  Crocodylidae  Crocodylus                 1.90                  62.0   \n",
       "1  Crocodylidae  Crocodylus                 4.09                 334.5   \n",
       "2  Crocodylidae  Crocodylus                 1.08                 118.2   \n",
       "3  Crocodylidae  Crocodylus                 2.42                  90.4   \n",
       "4  Crocodylidae  Crocodylus                 3.75                 269.4   \n",
       "\n",
       "  Age Class      Sex Date of Observation Country/Region      Habitat Type  \\\n",
       "0     Adult     Male          31-03-2018         Belize            Swamps   \n",
       "1     Adult     Male          28-01-2015      Venezuela         Mangroves   \n",
       "2  Juvenile  Unknown          07-12-2010      Venezuela  Flooded Savannas   \n",
       "3     Adult     Male          01-11-2019         Mexico            Rivers   \n",
       "4     Adult  Unknown          15-07-2019          India            Rivers   \n",
       "\n",
       "     Conservation Status     Observer Name  \\\n",
       "0          Least Concern      Allison Hill   \n",
       "1             Vulnerable      Brandon Hall   \n",
       "2  Critically Endangered  Melissa Peterson   \n",
       "3          Least Concern     Edward Fuller   \n",
       "4             Vulnerable       Donald Reid   \n",
       "\n",
       "                                               Notes  \n",
       "0           Cause bill scientist nation opportunity.  \n",
       "1  Ago current practice nation determine operatio...  \n",
       "2  Democratic shake bill here grow gas enough ana...  \n",
       "3        Officer relate animal direction eye bag do.  \n",
       "4  Class great prove reduce raise author play mov...  "
      ]
     },
     "execution_count": 76,
     "metadata": {},
     "output_type": "execute_result"
    }
   ],
   "source": [
    "import pandas as pd\n",
    "\n",
    "df = pd.read_csv(\"./data/crocodile_dataset.csv\")\n",
    "df.head()\n"
   ]
  },
  {
   "cell_type": "code",
   "execution_count": 77,
   "id": "67c90cb1-8a34-4b5c-b4f2-f7eb098c5d3b",
   "metadata": {},
   "outputs": [
    {
     "data": {
      "text/plain": [
       "Observation ID          0\n",
       "Common Name             0\n",
       "Scientific Name         0\n",
       "Family                  0\n",
       "Genus                   0\n",
       "Observed Length (m)     0\n",
       "Observed Weight (kg)    0\n",
       "Age Class               0\n",
       "Sex                     0\n",
       "Date of Observation     0\n",
       "Country/Region          0\n",
       "Habitat Type            0\n",
       "Conservation Status     0\n",
       "Observer Name           0\n",
       "Notes                   0\n",
       "dtype: int64"
      ]
     },
     "execution_count": 77,
     "metadata": {},
     "output_type": "execute_result"
    }
   ],
   "source": [
    "df.isnull().sum()"
   ]
  },
  {
   "cell_type": "code",
   "execution_count": 78,
   "id": "7982e251-ed79-40cf-98e6-e66210753388",
   "metadata": {},
   "outputs": [
    {
     "name": "stdout",
     "output_type": "stream",
     "text": [
      "<class 'pandas.core.frame.DataFrame'>\n",
      "RangeIndex: 1000 entries, 0 to 999\n",
      "Data columns (total 15 columns):\n",
      " #   Column                Non-Null Count  Dtype  \n",
      "---  ------                --------------  -----  \n",
      " 0   Observation ID        1000 non-null   int64  \n",
      " 1   Common Name           1000 non-null   object \n",
      " 2   Scientific Name       1000 non-null   object \n",
      " 3   Family                1000 non-null   object \n",
      " 4   Genus                 1000 non-null   object \n",
      " 5   Observed Length (m)   1000 non-null   float64\n",
      " 6   Observed Weight (kg)  1000 non-null   float64\n",
      " 7   Age Class             1000 non-null   object \n",
      " 8   Sex                   1000 non-null   object \n",
      " 9   Date of Observation   1000 non-null   object \n",
      " 10  Country/Region        1000 non-null   object \n",
      " 11  Habitat Type          1000 non-null   object \n",
      " 12  Conservation Status   1000 non-null   object \n",
      " 13  Observer Name         1000 non-null   object \n",
      " 14  Notes                 1000 non-null   object \n",
      "dtypes: float64(2), int64(1), object(12)\n",
      "memory usage: 117.3+ KB\n"
     ]
    }
   ],
   "source": [
    "df.info()"
   ]
  },
  {
   "cell_type": "code",
   "execution_count": 79,
   "id": "8ad4edaa-bb15-46a0-b305-90a7d9376551",
   "metadata": {},
   "outputs": [
    {
     "name": "stdout",
     "output_type": "stream",
     "text": [
      "(1000, 15)\n"
     ]
    }
   ],
   "source": [
    "print(df.shape)"
   ]
  },
  {
   "cell_type": "code",
   "execution_count": 80,
   "id": "15868339-4442-4aff-a432-401c27dc8a11",
   "metadata": {},
   "outputs": [
    {
     "name": "stdout",
     "output_type": "stream",
     "text": [
      "   Observation ID                         Common Name         Scientific Name  \\\n",
      "0               1                 Morelet's Crocodile    Crocodylus moreletii   \n",
      "1               2                  American Crocodile       Crocodylus acutus   \n",
      "2               3                   Orinoco Crocodile  Crocodylus intermedius   \n",
      "3               4                 Morelet's Crocodile    Crocodylus moreletii   \n",
      "4               5  Mugger Crocodile (Marsh Crocodile)    Crocodylus palustris   \n",
      "\n",
      "         Family       Genus  Observed Length (m)  Observed Weight (kg)  \\\n",
      "0  Crocodylidae  Crocodylus                 1.90                  62.0   \n",
      "1  Crocodylidae  Crocodylus                 4.09                 334.5   \n",
      "2  Crocodylidae  Crocodylus                 1.08                 118.2   \n",
      "3  Crocodylidae  Crocodylus                 2.42                  90.4   \n",
      "4  Crocodylidae  Crocodylus                 3.75                 269.4   \n",
      "\n",
      "  Age Class      Sex Date of Observation Country/Region      Habitat Type  \\\n",
      "0     Adult     Male          31-03-2018         Belize            Swamps   \n",
      "1     Adult     Male          28-01-2015      Venezuela         Mangroves   \n",
      "2  Juvenile  Unknown          07-12-2010      Venezuela  Flooded Savannas   \n",
      "3     Adult     Male          01-11-2019         Mexico            Rivers   \n",
      "4     Adult  Unknown          15-07-2019          India            Rivers   \n",
      "\n",
      "     Conservation Status     Observer Name  \\\n",
      "0          Least Concern      Allison Hill   \n",
      "1             Vulnerable      Brandon Hall   \n",
      "2  Critically Endangered  Melissa Peterson   \n",
      "3          Least Concern     Edward Fuller   \n",
      "4             Vulnerable       Donald Reid   \n",
      "\n",
      "                                               Notes  \n",
      "0           Cause bill scientist nation opportunity.  \n",
      "1  Ago current practice nation determine operatio...  \n",
      "2  Democratic shake bill here grow gas enough ana...  \n",
      "3        Officer relate animal direction eye bag do.  \n",
      "4  Class great prove reduce raise author play mov...  \n"
     ]
    }
   ],
   "source": [
    "print(df.head())"
   ]
  },
  {
   "cell_type": "code",
   "execution_count": 81,
   "id": "02862ed2-243d-43e0-a91d-7977aed5448b",
   "metadata": {},
   "outputs": [
    {
     "name": "stdout",
     "output_type": "stream",
     "text": [
      "Index(['Observation ID', 'Common Name', 'Scientific Name', 'Family', 'Genus',\n",
      "       'Observed Length (m)', 'Observed Weight (kg)', 'Age Class', 'Sex',\n",
      "       'Date of Observation', 'Country/Region', 'Habitat Type',\n",
      "       'Conservation Status', 'Observer Name', 'Notes'],\n",
      "      dtype='object')\n"
     ]
    }
   ],
   "source": [
    "print(df.columns)"
   ]
  },
  {
   "cell_type": "code",
   "execution_count": 82,
   "id": "ee1b5ac3-8d0b-4510-b04e-7eba5fb48965",
   "metadata": {},
   "outputs": [],
   "source": [
    "\n",
    "for col in df.select_dtypes(include='object').columns:\n",
    "    df[col] = df[col].astype('category').cat.codes\n"
   ]
  },
  {
   "cell_type": "code",
   "execution_count": 83,
   "id": "fff31b3e-aa20-4ab2-8cdd-ec1d029fd653",
   "metadata": {},
   "outputs": [
    {
     "name": "stdout",
     "output_type": "stream",
     "text": [
      "     Observation ID  Common Name  Scientific Name  Family  Genus  \\\n",
      "0                 1            7                5       0      0   \n",
      "1                 2            0                0       0      0   \n",
      "2                 3           11                2       0      0   \n",
      "3                 4            7                5       0      0   \n",
      "4                 5            8                8       0      0   \n",
      "..              ...          ...              ...     ...    ...   \n",
      "995             996           15               13       0      0   \n",
      "996             997            6                1       0      0   \n",
      "997             998           17               14       0      1   \n",
      "998             999           17               14       0      1   \n",
      "999            1000            6                1       0      0   \n",
      "\n",
      "     Observed Length (m)  Observed Weight (kg)  Age Class  Sex  \\\n",
      "0                   1.90                  62.0          0    1   \n",
      "1                   4.09                 334.5          0    1   \n",
      "2                   1.08                 118.2          2    2   \n",
      "3                   2.42                  90.4          0    1   \n",
      "4                   3.75                 269.4          0    2   \n",
      "..                   ...                   ...        ...  ...   \n",
      "995                 2.55                 112.3          0    0   \n",
      "996                 2.27                  80.3          3    0   \n",
      "997                 2.34                  93.5          0    1   \n",
      "998                 2.82                 147.6          0    1   \n",
      "999                 1.73                  47.4          2    2   \n",
      "\n",
      "     Date of Observation  Country/Region  Habitat Type  Conservation Status  \\\n",
      "0                    917               1            27                    3   \n",
      "1                    813              45            16                    4   \n",
      "2                    212              45             6                    0   \n",
      "3                     22              29            22                    3   \n",
      "4                    435              17            22                    4   \n",
      "..                   ...             ...           ...                  ...   \n",
      "995                   18              28            14                    3   \n",
      "996                  719              34            11                    3   \n",
      "997                  176              11            27                    0   \n",
      "998                  262              37            23                    0   \n",
      "999                  916              34            11                    3   \n",
      "\n",
      "     Observer Name  Notes  \n",
      "0               19    141  \n",
      "1              109     28  \n",
      "2              656    219  \n",
      "3              287    568  \n",
      "4              269    161  \n",
      "..             ...    ...  \n",
      "995            498    885  \n",
      "996            895    602  \n",
      "997            556    666  \n",
      "998            311    680  \n",
      "999            554    573  \n",
      "\n",
      "[1000 rows x 15 columns]\n"
     ]
    }
   ],
   "source": [
    "print(df)"
   ]
  },
  {
   "cell_type": "code",
   "execution_count": 84,
   "id": "fcc3d773-e817-4248-ae71-493b9972ea18",
   "metadata": {},
   "outputs": [],
   "source": [
    "x = df.drop('Sex', axis=1) \n",
    "y = df['Sex']\n"
   ]
  },
  {
   "cell_type": "code",
   "execution_count": 85,
   "id": "c77b55e0-8c3d-4413-ad35-91c7a81891cd",
   "metadata": {},
   "outputs": [],
   "source": [
    "from sklearn.model_selection import train_test_split\n",
    "x_train,x_test,y_train, y_test=train_test_split(x,y,test_size=0.2, random_state=42)\n"
   ]
  },
  {
   "cell_type": "code",
   "execution_count": 86,
   "id": "5e637ddd-85f7-4257-b5d1-d6c1b80d90a5",
   "metadata": {},
   "outputs": [
    {
     "name": "stdout",
     "output_type": "stream",
     "text": [
      "[2 2 1 0 2 2 0 0 0 1 2 2 1 2 2 2 2 2 0 0 0 1 2 1 2 0 1 2 2 0 0 2 0 1 1 2 0\n",
      " 1 2 2 1 1 0 0 1 0 2 2 0 0 2 2 1 1 2 1 2 0 0 2 2 1 2 1 2 0 1 2 2 1 1 1 0 1\n",
      " 2 1 0 0 1 2 1 2 0 2 2 2 1 0 0 2 2 1 2 1 0 1 1 2 2 2 1 1 0 2 1 2 1 0 0 0 2\n",
      " 0 1 2 1 1 0 2 2 2 0 0 0 2 2 2 1 1 2 0 1 2 0 1 1 0 0 1 2 2 0 1 2 1 2 2 2 2\n",
      " 1 2 1 1 2 2 0 2 0 0 2 2 0 0 0 2 1 1 2 0 2 2 1 2 2 1 1 0 2 1 0 2 1 1 1 0 1\n",
      " 2 2 0 0 2 2 2 2 1 0 2 0 2 1 1]\n",
      "accuracy 0.38\n"
     ]
    }
   ],
   "source": [
    "from sklearn.ensemble import RandomForestClassifier\n",
    "from sklearn.metrics import accuracy_score\n",
    "\n",
    "model=RandomForestClassifier()\n",
    "model.fit(x_train, y_train)\n",
    "\n",
    "y_pred=model.predict(x_test)\n",
    "print(y_pred)\n",
    "print(\"accuracy\", accuracy_score(y_test,y_pred))"
   ]
  },
  {
   "cell_type": "code",
   "execution_count": 87,
   "id": "7866fe94-d0f6-457e-b4cf-4dd92d002a5b",
   "metadata": {},
   "outputs": [],
   "source": [
    "y= df['Observed Length (m)']\n",
    "x= df.drop('Observed Length (m)', axis=1)\n"
   ]
  },
  {
   "cell_type": "code",
   "execution_count": 88,
   "id": "955ede27-96a1-4371-964c-1496d69c7660",
   "metadata": {},
   "outputs": [],
   "source": [
    "from sklearn.model_selection import train_test_split\n",
    "x_train, x_test, y_train, y_test=train_test_split(x,y,test_size=0.2, random_state=42)\n"
   ]
  },
  {
   "cell_type": "code",
   "execution_count": 89,
   "id": "62509260-7e78-46b1-bf4e-7542e101d848",
   "metadata": {},
   "outputs": [
    {
     "name": "stdout",
     "output_type": "stream",
     "text": [
      "MSE: 0.3308873545976067\n",
      "R2 Score: 0.713647976282598\n"
     ]
    }
   ],
   "source": [
    "from sklearn.linear_model import LinearRegression\n",
    "from sklearn.metrics import mean_squared_error, r2_score\n",
    "\n",
    "model = LinearRegression()\n",
    "model.fit(x_train, y_train)\n",
    "\n",
    "y_pred = model.predict(x_test)\n",
    "\n",
    "print(\"MSE:\", mean_squared_error(y_test, y_pred))\n",
    "print(\"R2 Score:\", r2_score(y_test, y_pred))\n"
   ]
  },
  {
   "cell_type": "code",
   "execution_count": 90,
   "id": "f1a4185d-fa25-4616-8767-1950fde3444e",
   "metadata": {},
   "outputs": [
    {
     "data": {
      "image/png": "[encoded data removed]",
      "text/plain": [
       "<Figure size 640x480 with 1 Axes>"
      ]
     },
     "metadata": {},
     "output_type": "display_data"
    }
   ],
   "source": [
    "import matplotlib.pyplot as plt\n",
    "\n",
    "plt.scatter(y_test, y_pred, color='blue')\n",
    "plt.plot([y_test.min(), y_test.max()], [y_test.min(), y_test.max()], color='red', linestyle='--')\n",
    "plt.xlabel(\"Actual Length\")\n",
    "plt.ylabel(\"Predicted Length\")\n",
    "plt.title(\"Actual vs Predicted Length\")\n",
    "plt.show()\n"
   ]
  },
  {
   "cell_type": "code",
   "execution_count": 91,
   "id": "f0900d5a-c242-46e7-b72b-e296c6d14ed9",
   "metadata": {},
   "outputs": [
    {
     "name": "stdout",
     "output_type": "stream",
     "text": [
      "MSE: 0.16074053016065057\n",
      "R2: 0.8608941216236998\n"
     ]
    }
   ],
   "source": [
    "from sklearn.preprocessing import PolynomialFeatures\n",
    "from sklearn.pipeline import make_pipeline\n",
    "\n",
    "poly_model = make_pipeline(PolynomialFeatures(degree=2), LinearRegression())\n",
    "poly_model.fit(x_train, y_train)\n",
    "\n",
    "y_pred_poly = poly_model.predict(x_test)\n",
    "\n",
    "print(\"MSE:\", mean_squared_error(y_test, y_pred_poly))\n",
    "print(\"R2:\", r2_score(y_test, y_pred_poly))\n"
   ]
  },
  {
   "cell_type": "code",
   "execution_count": 92,
   "id": "3b0a2e94-3158-4af0-9d44-6576af55e0a1",
   "metadata": {},
   "outputs": [
    {
     "data": {
      "image/png": "[encoded data removed]",
      "text/plain": [
       "<Figure size 640x480 with 1 Axes>"
      ]
     },
     "metadata": {},
     "output_type": "display_data"
    }
   ],
   "source": [
    "plt.scatter(y_test, y_pred_poly, color='green')\n",
    "plt.plot([y_test.min(), y_test.max()], [y_test.min(), y_test.max()], color='red', linestyle='--')\n",
    "plt.xlabel(\"Actual Length\")\n",
    "plt.ylabel(\"Predicted Length\")\n",
    "plt.title(\"Polynomial Regression: Actual vs Predicted\")\n",
    "plt.show()\n"
   ]
  },
  {
   "cell_type": "code",
   "execution_count": 93,
   "id": "a9587dda-a51f-4afc-a5cd-9c39eefc00a8",
   "metadata": {},
   "outputs": [
    {
     "name": "stdout",
     "output_type": "stream",
     "text": [
      "Cross Validation R2: [-0.32148649  0.90757518  0.91540262  0.91675291  0.91569637] Mean: 0.6667881179029089\n"
     ]
    }
   ],
   "source": [
    "from sklearn.model_selection import cross_val_score\n",
    "\n",
    "scores = cross_val_score(poly_model, x, y, cv=5, scoring='r2')\n",
    "\n",
    "print(\"Cross Validation R2:\", scores, \"Mean:\", scores.mean())"
   ]
  },
  {
   "cell_type": "code",
   "execution_count": 94,
   "id": "204a8f4a-8de1-4d5b-81a9-36a5252a5d54",
   "metadata": {},
   "outputs": [
    {
     "data": {
      "image/png": "[encoded data removed]",
      "text/plain": [
       "<Figure size 640x480 with 1 Axes>"
      ]
     },
     "metadata": {},
     "output_type": "display_data"
    }
   ],
   "source": [
    "residuals = y_test - y_pred\n",
    "plt.scatter(y_pred, residuals, color='green')\n",
    "plt.hlines(y=0, xmin=y_pred.min(), xmax=y_pred.max(), color='red', linestyle='--')\n",
    "plt.xlabel(\"Predicted Length\")\n",
    "plt.ylabel(\"Residuals\")\n",
    "plt.title(\"Residual Plot\")\n",
    "plt.show()\n"
   ]
  },
  {
   "cell_type": "code",
   "execution_count": null,
   "id": "04a5e4a1-9907-4f99-9a64-8ed5ecfbda42",
   "metadata": {},
   "outputs": [],
   "source": []
  },
  {
   "cell_type": "code",
   "execution_count": null,
   "id": "c8bd28b1-6445-4b46-a650-5e1a4f6fbd86",
   "metadata": {},
   "outputs": [],
   "source": []
  },
  {
   "cell_type": "code",
   "execution_count": null,
   "id": "abf14e1b-53bb-427b-8e0b-6dd2b182bdeb",
   "metadata": {},
   "outputs": [],
   "source": []
  }
 ],
 "metadata": {
  "kernelspec": {
   "display_name": "Python 3 (ipykernel)",
   "language": "python",
   "name": "python3"
  },
  "language_info": {
   "codemirror_mode": {
    "name": "ipython",
    "version": 3
   },
   "file_extension": ".py",
   "mimetype": "text/x-python",
   "name": "python",
   "nbconvert_exporter": "python",
   "pygments_lexer": "ipython3",
   "version": "3.13.0"
  }
 },
 "nbformat": 4,
 "nbformat_minor": 5
}
